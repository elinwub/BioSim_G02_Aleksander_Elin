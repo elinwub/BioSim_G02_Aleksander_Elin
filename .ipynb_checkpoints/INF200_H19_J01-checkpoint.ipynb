{
 "cells": [
  {
   "cell_type": "markdown",
   "metadata": {},
   "source": [
    "# INF200 Lecture No J01\n",
    "\n",
    "###  2 June 2020\n",
    "\n",
    "## Today's topics\n",
    "\n",
    "1. Project overview\n",
    "1. How we will work remotely\n",
    "1. Team repositories\n",
    "1. Project directory structure\n",
    "1. Modules and packages (and packages)"
   ]
  },
  {
   "cell_type": "markdown",
   "metadata": {},
   "source": [
    "## 1. Project overview\n",
    "\n",
    "### Teacher\n",
    "- Hans Ekkehard Plesser (Github: heplesser, email: hans.ekkehard.plesser@nmbu.no)\n",
    "\n",
    "### Teaching assistants\n",
    "- Amir Arfan (Github: amirarfan)\n",
    "- Bishnu Poudel (Github: vsnupoudel)\n",
    "\n",
    "### Exam information\n",
    "- Oral exam **Monday 22 & Tuesday 23 June**\n",
    "- Presentation and discussion, approximately 30 minutes\n",
    "- Each pair of students will **present and discuss together**\n",
    "- Notify Plesser by email **today** if you have date constraints due to other exams or similar"
   ]
  },
  {
   "cell_type": "markdown",
   "metadata": {},
   "source": [
    "### Schedule\n",
    "\n",
    "- Mandatory attendance Monday-Friday 09.00-15.00\n",
    "    - Plenary Zoom meetings from 09.00 and from 14.30\n",
    "    - Pairwise work in Zoom rooms with visits by TA and Plesser\n",
    "\n",
    "| Date | Event / Milestone |\n",
    "|:---- |:----------------- |\n",
    "| 02 June 09:00 | Start |\n",
    "| 02 June 15:00 | Github Repo and PyCharm Project ready |\n",
    "| 03 June 15:00 | Problem and requirements analysis |\n",
    "| 05 June 15:00 | First functional simulation of *herbivores* in one place (no migration) |\n",
    "| 08 June 15:00 | Project plan for remaining work |\n",
    "| 10 June 15:00 | Correctly working simulation with herbivores and carnivores in one place (no migration) |\n",
    "| 12 June 15:00 | Demo of working simulation of herbivores and carnivores, all types of terrain and simple visualization |\n",
    "| 18 June **12:00** | Full simulation code incl documentation |\n",
    "| 20 June **12:00** | PDF and animation for oral presentation |\n",
    "| 22 & 23 June | Oral exam |\n",
    "\n",
    "\n",
    "### Preliminary list of lectures\n",
    "\n",
    "- Lectures will be given as required, usually at 09.00\n",
    "- The lecture list below is indicative and subject to change on short notice\n",
    "\n",
    "| Date | Topic |\n",
    "|:-----|:------|\n",
    "| 02 June | Setting up, Python packages |\n",
    "| 03 June | Class and static methods, Team repos and branches |\n",
    "| 04 June | Testing: mocking, fixtures, statistical tests |\n",
    "| 08 June | Documenting source code with Sphinx |\n",
    "| 10 June | Model dynamics, Efficient visualization |\n",
    "| 11 June | Packaging for distribution, Automated testing |\n",
    "| 12 June | Delivery and exam information |\n",
    "| 18 June | A very brief introduction to C++ (13.00-15.00) |"
   ]
  },
  {
   "cell_type": "markdown",
   "metadata": {},
   "source": [
    "## 2. How we will work remotely \n",
    "\n",
    "### Key resources\n",
    "\n",
    "- Zoom room for plenary meetings\n",
    "    - https://nmbu.zoom.us/j/65011151180?pwd=YlhmSEhSNVA2QXBhSWN4cFlKWmtMdz09\n",
    "    - Meeting ID: 650 1115 1180\n",
    "    - Password: 654057\n",
    "- *INF200 Course Chat* on Teams for questions, to request help from TAs and teacher during the day\n",
    "- Github repository with material for the course (https://github.com/heplesser/nmbu_inf200_june2020)\n",
    "    - Project description\n",
    "    - Lecture notebooks\n",
    "    - Example code\n",
    "- A [Vimeo Channel with INF200 videos](https://vimeo.com/channels/nmbuinf200june2020) on technical details\n",
    "- Each team creates their own Zoom room (using your NMBU login) and posts a link to it in the `INF200_Groups.xlsx` file on Teams\n",
    "\n",
    "### Daily rythm and work form\n",
    "\n",
    "#### Plenary sessions\n",
    "1. Plenary lectures from 09.00 every day in the plenary Zoom room. Depending on content, they will last between 30 and 90 minutes.\n",
    "1. Short plenary wrap-up sessions from 14.30 every day in the plenary Zoom room.\n",
    "We will check attendance during plenaries.\n",
    "\n",
    "#### Individual work\n",
    "1. Individual work in the groups. Connect using your own Zoom room, sharing screens for pair programming. You should be available in your Zoom room except for a lunch break.\n",
    "1. If you have a question, post it in the Teams chat.\n",
    "1. If you want assistance by a TA, post a request in the Teams chat."
   ]
  },
  {
   "cell_type": "markdown",
   "metadata": {},
   "source": [
    "## 3. Team Repositories\n",
    "\n",
    "- In the PA exercises, you collaborated by pulling code from each other's repos\n",
    "- Does not scale beyond small groups\n",
    "- Solution: team repositories\n",
    "    - A team has multiple members\n",
    "    - Members can have different rights\n",
    "    - Typically, all developers can push to the team repo\n",
    "- In the BioSim project, you will work with a team repository\n",
    "    - To keep things somewhat simple, we will not use *Github Teams*\n",
    "    - One member of the team creates a repository and gives the other team member full access\n",
    "    - Both members pull from and push to the same repo\n",
    "    - Important\n",
    "        - Always pull before you push\n",
    "        - **NEVER force a push**\n",
    "        \n",
    "### Creating a shared repository on Github\n",
    "\n",
    "One member executes the following steps. In the end, both members will have equal rights in the repository.\n",
    "\n",
    "1. Create a repository `BioSim_Gxx_<FirstName1>_<FirstName2>`\n",
    "    - `Gxx` is the number of your June project group in Canvas/Teams; remember a leading zero, e.g., `G01`\n",
    "    - The first names of both group members, alphabetically, e.g., `G01_Anna_Espen`.\n",
    "1. See video for further steps.\n",
    "1. Add `amirarfan`, `vsnupoudel` and `heplesser` as collaborators to your repo.\n",
    "\n",
    "### Working with the shared repository\n",
    "\n",
    "- Both partners now clone the new repository to their computers\n",
    "- Create a `README.md` file as follows\n",
    "     1. One partner creates the file and enters her name\n",
    "     1. She commits and pushes\n",
    "     1. The other partner pulls, adds his name, commits and pushes\n",
    "- Take turns at making changes to the `README.md` file for a few rounds of pull-change-commit-push-switch.\n",
    "- At the beginning, switch roles strictly and regularly\n",
    "    - driver at the keyboard, navigator \"hands off\"\n",
    "    - commit to drivers clone of the repo\n",
    "    - before switching, commit all changes and push\n",
    "    - after switching, the new driver first pulls all changes\n",
    "- At later points you may work in parallel at times\n",
    "    - make sure to work on different parts of the code\n",
    "    - commit regularly on your own computer\n",
    "    - check with your partner before pushing\n",
    "    - pull before pushing\n",
    "- Work in a branch if you want to try something!\n",
    "- **NEVER force a push**\n",
    "\n",
    "\n",
    "### Work planning on Github\n",
    "\n",
    "We will use several of Github's project management features: *Projects*, *Milestones*, *Labels*, *Issues* and *Pull Requests*. The workflow is shown in a video.\n",
    "\n",
    "- Create a project in the repository and use it for managing your progress.\n",
    "- For each of the milestones related to code developement that is given above and in Table 1 of the project description, create a milestone in Github (with due date). You can add more milestones.\n",
    "- Create labels to mark work related to different aspects of you work, e.g., code, documentation, tests and deployment.\n",
    "- Create and issue for each thing you need to do and assign it to your project and a milestone and label it.\n",
    "- Do development work in branches and create pull requests to integrate it into your master branch.\n",
    "- Use the Kanban board to manage and track the progress of your work."
   ]
  },
  {
   "cell_type": "markdown",
   "metadata": {},
   "source": [
    "## 4. Project setup in Conda and PyCharm and directory structure\n",
    "\n",
    "See video for a demonstration.\n",
    "\n",
    "### Clone repo with course material\n",
    "\n",
    "- Clone the repo with course material from https://github.com/heplesser/nmbu_inf200_june2020.\n",
    "    - This repo will be called the *course repo* from now on.\n",
    "- Pull regularly from the repo to get updates.\n",
    "- Some files are also available from the Teams INF200 Course Chat \"Files\" area.\n",
    "\n",
    "### Conda setup\n",
    "\n",
    "- Make sure you have the `project_description/requirements.txt` file from the course repo on your computer.\n",
    "- If you already have a Conda environment for INF200\n",
    "    - make sure all packages listed in that `requirements.txt` are installed and up to date\n",
    "- If you do not have a Conda environment for INF200 yet\n",
    "    - open Anaconda Prompt or a terminal and run\n",
    "\n",
    "            conda create -n inf200 --file=<INSERT PATH>/requirements.txt\n",
    "     \n",
    "    - Replace `<INSERT PATH>` with the proper path to the file on your computer\n",
    "\n",
    "### PyCharm setup\n",
    "\n",
    "- Open your cloned `BioSim_Gxx_<Name1>_<Name2>` repository in PyCharm (use \"Open\", not \"Create\")\n",
    "- See the video for how to configure PyCharm! **Do not skip this step!**\n",
    "- Create the following directory structure\n",
    "\n",
    "```\n",
    "BioSim_Gxx_<Name1>_<Name2>\n",
    "    README.md\n",
    "    biosim\n",
    "        __init__.py\n",
    "    examples\n",
    "        check_sim.py\n",
    "    tests\n",
    "        test_biosim_interface.py\n",
    "    requirements.txt\n",
    "```\n",
    "\n",
    "### Notes\n",
    "- `__init__.py` is an empty file\n",
    "- Your modules go into directory `biosim`\n",
    "- Scripts using the `biosim` package go into `examples`\n",
    "- All tests go into `tests`\n",
    "- Copy `check_sim.py`, `test_biosim_interface.py` and `requirements.txt` from the `project_description` folder in the course repo\n",
    "- **Copy the sample.gitignore file** from `project_description` in the course repo **to `.gitignore` in your folder!**\n",
    "- We will add more to this structure later\n",
    "- `examples/chutes_project` in the course repo shows an example project structure (more about that tomorrow)\n",
    "    - Ignore all files not discussed so far, e.g., `setup.py`, `Manifest.in`, ..."
   ]
  },
  {
   "cell_type": "markdown",
   "metadata": {
    "slideshow": {
     "slide_type": "slide"
    }
   },
   "source": [
    "## 5. Modules and packages (and packages)\n"
   ]
  },
  {
   "cell_type": "markdown",
   "metadata": {
    "slideshow": {
     "slide_type": "fragment"
    }
   },
   "source": [
    "- We could put all our code in a single file, but this is far from optimal\n",
    "    - Large files are difficult to work with\n",
    "    - We can only keep 5-7 things on our mind, hierarchical structure makes it easier to keep an overview\n",
    "    - We may want to re-use different code in different places"
   ]
  },
  {
   "cell_type": "markdown",
   "metadata": {
    "slideshow": {
     "slide_type": "subslide"
    }
   },
   "source": [
    "Python's solution: *Modules* and *Packages*\n",
    "\n",
    "* **Module:** A single Python file\n",
    "* **Package:** A collection of python files (can think of it like a folder)\n",
    "\n",
    "[Python Tutorial, ch 6](https://docs.python.org/3.6/tutorial/modules.html)"
   ]
  },
  {
   "cell_type": "markdown",
   "metadata": {
    "slideshow": {
     "slide_type": "slide"
    }
   },
   "source": [
    "## Modules\n",
    "\n",
    "Each Python file is a module"
   ]
  },
  {
   "cell_type": "markdown",
   "metadata": {
    "slideshow": {
     "slide_type": "subslide"
    }
   },
   "source": [
    "What is the difference between a python *module* and a python *script*?\n",
    "* Technically: No difference\n",
    "* In practical usage:\n",
    "    * Script: Python code to be run, not imported\n",
    "    * Module: Python code to be imported, not run"
   ]
  },
  {
   "cell_type": "markdown",
   "metadata": {
    "slideshow": {
     "slide_type": "subslide"
    }
   },
   "source": [
    "#### Example Python module\n",
    "\n",
    "We will create a Python module live through Jupyter notebook, using [cell magic](https://ipython.readthedocs.io/en/stable/interactive/tutorial.html#magic-functions). Before that, we remove files and directories that will be written by this notebook so we start with a clean slate."
   ]
  },
  {
   "cell_type": "code",
   "execution_count": 1,
   "metadata": {
    "slideshow": {
     "slide_type": "fragment"
    }
   },
   "outputs": [],
   "source": [
    "%rm -rf *.py *.pyc"
   ]
  },
  {
   "cell_type": "code",
   "execution_count": 2,
   "metadata": {
    "slideshow": {
     "slide_type": "subslide"
    }
   },
   "outputs": [
    {
     "name": "stdout",
     "output_type": "stream",
     "text": [
      "Writing mystats.py\n"
     ]
    }
   ],
   "source": [
    "%%writefile mystats.py\n",
    "\n",
    "\"\"\"mystats provides some statistical functions.\"\"\"\n",
    "\n",
    "import math\n",
    "\n",
    "def _square(data):\n",
    "    return [x**2 for x in data]\n",
    "\n",
    "def mean(data):\n",
    "    \"\"\"Returns arithmetic mean of sample data.\"\"\"\n",
    "    return sum(data) / float(len(data))\n",
    "\n",
    "def var(data):\n",
    "    \"\"\"Returns variance of data.\"\"\"\n",
    "    return mean(_square(data)) - mean(data)**2\n",
    "\n",
    "example_data = [1, 3, 2, 4, 5, 8, 1]"
   ]
  },
  {
   "cell_type": "markdown",
   "metadata": {
    "slideshow": {
     "slide_type": "subslide"
    }
   },
   "source": [
    "Now that there is a file called `mystats.py`, we can import the module"
   ]
  },
  {
   "cell_type": "code",
   "execution_count": 3,
   "metadata": {
    "slideshow": {
     "slide_type": "fragment"
    }
   },
   "outputs": [
    {
     "name": "stdout",
     "output_type": "stream",
     "text": [
      "2.0\n",
      "1.5\n",
      "[1, 3, 2, 4, 5, 8, 1]\n"
     ]
    }
   ],
   "source": [
    "import mystats\n",
    "print(mystats.mean([1, 2, 3]))\n",
    "print(mystats.var([1.5, 3, 4.5]))\n",
    "print(mystats.example_data)"
   ]
  },
  {
   "cell_type": "markdown",
   "metadata": {
    "slideshow": {
     "slide_type": "subslide"
    }
   },
   "source": [
    "* Importing a module doesn't bind any names other than the module name itself\n",
    "* Variables can however by imported directly from a module aswell"
   ]
  },
  {
   "cell_type": "code",
   "execution_count": 4,
   "metadata": {
    "slideshow": {
     "slide_type": "fragment"
    }
   },
   "outputs": [
    {
     "data": {
      "text/plain": [
       "2.0"
      ]
     },
     "execution_count": 4,
     "metadata": {},
     "output_type": "execute_result"
    }
   ],
   "source": [
    "from mystats import mean\n",
    "mean([1, 2, 3])"
   ]
  },
  {
   "cell_type": "markdown",
   "metadata": {
    "slideshow": {
     "slide_type": "subslide"
    }
   },
   "source": [
    "* We can also import all functions from a module\n",
    "* Ok for interactive work, not recommended in scripts and modules\n",
    "* Names beginning with _ are not imported"
   ]
  },
  {
   "cell_type": "code",
   "execution_count": 5,
   "metadata": {
    "slideshow": {
     "slide_type": "fragment"
    }
   },
   "outputs": [
    {
     "name": "stdout",
     "output_type": "stream",
     "text": [
      "[1, 3, 2, 4, 5, 8, 1]\n"
     ]
    },
    {
     "ename": "NameError",
     "evalue": "name '_square' is not defined",
     "output_type": "error",
     "traceback": [
      "\u001b[0;31m---------------------------------------------------------------------------\u001b[0m",
      "\u001b[0;31mNameError\u001b[0m                                 Traceback (most recent call last)",
      "\u001b[0;32m<ipython-input-5-d810355a96cb>\u001b[0m in \u001b[0;36m<module>\u001b[0;34m\u001b[0m\n\u001b[1;32m      1\u001b[0m \u001b[0;32mfrom\u001b[0m \u001b[0mmystats\u001b[0m \u001b[0;32mimport\u001b[0m \u001b[0;34m*\u001b[0m\u001b[0;34m\u001b[0m\u001b[0;34m\u001b[0m\u001b[0m\n\u001b[1;32m      2\u001b[0m \u001b[0mprint\u001b[0m\u001b[0;34m(\u001b[0m\u001b[0mexample_data\u001b[0m\u001b[0;34m)\u001b[0m\u001b[0;34m\u001b[0m\u001b[0;34m\u001b[0m\u001b[0m\n\u001b[0;32m----> 3\u001b[0;31m \u001b[0mprint\u001b[0m\u001b[0;34m(\u001b[0m\u001b[0m_square\u001b[0m\u001b[0;34m(\u001b[0m\u001b[0;36m9\u001b[0m\u001b[0;34m)\u001b[0m\u001b[0;34m)\u001b[0m\u001b[0;34m\u001b[0m\u001b[0;34m\u001b[0m\u001b[0m\n\u001b[0m",
      "\u001b[0;31mNameError\u001b[0m: name '_square' is not defined"
     ]
    }
   ],
   "source": [
    "from mystats import *\n",
    "print(example_data)\n",
    "print(_square(9))"
   ]
  },
  {
   "cell_type": "markdown",
   "metadata": {
    "slideshow": {
     "slide_type": "subslide"
    }
   },
   "source": [
    "- The `dir` command lets us look at all names defined in the module"
   ]
  },
  {
   "cell_type": "code",
   "execution_count": 6,
   "metadata": {
    "slideshow": {
     "slide_type": "fragment"
    }
   },
   "outputs": [
    {
     "data": {
      "text/plain": [
       "['__builtins__',\n",
       " '__cached__',\n",
       " '__doc__',\n",
       " '__file__',\n",
       " '__loader__',\n",
       " '__name__',\n",
       " '__package__',\n",
       " '__spec__',\n",
       " '_square',\n",
       " 'example_data',\n",
       " 'math',\n",
       " 'mean',\n",
       " 'var']"
      ]
     },
     "execution_count": 6,
     "metadata": {},
     "output_type": "execute_result"
    }
   ],
   "source": [
    "dir(mystats)"
   ]
  },
  {
   "cell_type": "markdown",
   "metadata": {
    "slideshow": {
     "slide_type": "subslide"
    }
   },
   "source": [
    "Note that the module contains variables we have not set, such as `__doc__` and `__name__`"
   ]
  },
  {
   "cell_type": "code",
   "execution_count": 7,
   "metadata": {
    "slideshow": {
     "slide_type": "fragment"
    }
   },
   "outputs": [
    {
     "data": {
      "text/plain": [
       "'mystats provides some statistical functions.'"
      ]
     },
     "execution_count": 7,
     "metadata": {},
     "output_type": "execute_result"
    }
   ],
   "source": [
    "mystats.__doc__"
   ]
  },
  {
   "cell_type": "code",
   "execution_count": 8,
   "metadata": {
    "slideshow": {
     "slide_type": "fragment"
    }
   },
   "outputs": [
    {
     "data": {
      "text/plain": [
       "'mystats'"
      ]
     },
     "execution_count": 8,
     "metadata": {},
     "output_type": "execute_result"
    }
   ],
   "source": [
    "mystats.__name__"
   ]
  },
  {
   "cell_type": "markdown",
   "metadata": {
    "slideshow": {
     "slide_type": "subslide"
    }
   },
   "source": [
    "These variables contain *meta-information*, such as the modules docstring\n",
    "\n",
    "The `__name__`-variable is a bit special:\n",
    "- If a module is imported, it is set to the name of the file (without the `.py` extension)\n",
    "- If a modul is executed directly, it is set to `__main__`\n",
    "\n",
    "This is why we include a `if __name__ == '__main__':` at the bottom of our scripts, it is only true if the script is executed, not if it is imported"
   ]
  },
  {
   "cell_type": "markdown",
   "metadata": {
    "slideshow": {
     "slide_type": "subslide"
    }
   },
   "source": [
    "#### Example Python script\n",
    "\n",
    "- A script typically does some work and is not intended for import\n",
    "- An alternative to writing a script could be to create a jupyter notebook instead\n",
    "\n",
    "We now create a python script using cell magic"
   ]
  },
  {
   "cell_type": "code",
   "execution_count": 9,
   "metadata": {
    "slideshow": {
     "slide_type": "subslide"
    }
   },
   "outputs": [
    {
     "name": "stdout",
     "output_type": "stream",
     "text": [
      "Writing run_stats.py\n"
     ]
    }
   ],
   "source": [
    "%%writefile run_stats.py\n",
    "\n",
    "from mystats import mean, var\n",
    "import random\n",
    "import math\n",
    "\n",
    "for sample_size in [10, 100, 1000, 10000]:\n",
    "    sample = [random.random() for _ in range(sample_size)]\n",
    "    print('{:6}{:12.8f} +- {:12.8f}'.format(sample_size, mean(sample), \n",
    "                                            math.sqrt(var(sample)/(len(sample)-1))))"
   ]
  },
  {
   "cell_type": "code",
   "execution_count": 10,
   "metadata": {
    "slideshow": {
     "slide_type": "subslide"
    }
   },
   "outputs": [
    {
     "name": "stdout",
     "output_type": "stream",
     "text": [
      "    10  0.45749143 +-   0.10399275\n",
      "   100  0.46375973 +-   0.02889733\n",
      "  1000  0.50182906 +-   0.00913498\n",
      " 10000  0.50514801 +-   0.00285790\n"
     ]
    }
   ],
   "source": [
    "%run run_stats.py"
   ]
  },
  {
   "cell_type": "markdown",
   "metadata": {
    "slideshow": {
     "slide_type": "subslide"
    }
   },
   "source": [
    "- Note that we must import `math` explicitly, it is not \"inherited\" from `mystats`\n",
    "- The `%run` magic executes the script\n",
    "- Note that we can easily import from our `mystats` module, because the script and the module are stored in the same directiory"
   ]
  },
  {
   "cell_type": "markdown",
   "metadata": {
    "slideshow": {
     "slide_type": "slide"
    }
   },
   "source": [
    "## Running vs importing\n",
    "\n",
    "A program can be executed in many ways:\n",
    "- Execute `python run_stats.py` on a command line/terminal\n",
    "- Running it through PyCharm\n",
    "- Running it from the notebook using `%run`\n",
    "    - When a program is executed this way, `__name__` is set to `__main__`\n",
    "\n",
    "All code in the script is executed sequentially"
   ]
  },
  {
   "cell_type": "markdown",
   "metadata": {
    "slideshow": {
     "slide_type": "subslide"
    }
   },
   "source": [
    "We import a package by using the `import` keyword\n",
    "- In a python module or script\n",
    "- In a pyhton shell\n",
    "- In a notebook\n",
    "\n",
    "When we import a module, all the code is executed sequentially, but only the first time we import it\n",
    "\n",
    "We can 'hide' code we do not want to be executed inside an `if __name__ == '__main__'` test"
   ]
  },
  {
   "cell_type": "code",
   "execution_count": 11,
   "metadata": {
    "slideshow": {
     "slide_type": "subslide"
    }
   },
   "outputs": [
    {
     "name": "stdout",
     "output_type": "stream",
     "text": [
      "Writing my_verbose_module.py\n"
     ]
    }
   ],
   "source": [
    "%%writefile my_verbose_module.py\n",
    "\n",
    "print(\"This is a verbose module\")\n",
    "\n",
    "def foo():\n",
    "    print(\"It prints lots of things\")\n",
    "    \n",
    "if __name__ == '__main__':\n",
    "    foo()"
   ]
  },
  {
   "cell_type": "code",
   "execution_count": 12,
   "metadata": {
    "slideshow": {
     "slide_type": "fragment"
    }
   },
   "outputs": [
    {
     "name": "stdout",
     "output_type": "stream",
     "text": [
      "This is a verbose module\n",
      "It prints lots of things\n"
     ]
    }
   ],
   "source": [
    "import my_verbose_module\n",
    "my_verbose_module.foo()\n",
    "\n",
    "import my_verbose_module\n",
    "import my_verbose_module\n",
    "import my_verbose_module"
   ]
  },
  {
   "cell_type": "markdown",
   "metadata": {
    "slideshow": {
     "slide_type": "subslide"
    }
   },
   "source": [
    "The code in the module is only executed the first time the module is imported. The code in the main check is not executed when we import the module, so we call `foo` manually instead\n",
    "\n",
    "If we run the code instead, the whole code is executed, including the main check"
   ]
  },
  {
   "cell_type": "code",
   "execution_count": 13,
   "metadata": {
    "slideshow": {
     "slide_type": "fragment"
    }
   },
   "outputs": [
    {
     "name": "stdout",
     "output_type": "stream",
     "text": [
      "This is a verbose module\n",
      "It prints lots of things\n"
     ]
    }
   ],
   "source": [
    "%run my_verbose_module"
   ]
  },
  {
   "cell_type": "markdown",
   "metadata": {
    "slideshow": {
     "slide_type": "subslide"
    }
   },
   "source": [
    "### Reloading packages\n",
    "\n",
    "Multiple imports do not re-execute code to be efficient. In larger codes the same modules might be imported several times by accident, so any future imports simply do nothing.\n",
    "\n",
    "If we truly want to re-import a package, if for example the module has changed since the first import, we need `reload` from `importlib`"
   ]
  },
  {
   "cell_type": "code",
   "execution_count": 14,
   "metadata": {},
   "outputs": [],
   "source": [
    "from importlib import reload"
   ]
  },
  {
   "cell_type": "code",
   "execution_count": 15,
   "metadata": {
    "slideshow": {
     "slide_type": "fragment"
    }
   },
   "outputs": [
    {
     "name": "stdout",
     "output_type": "stream",
     "text": [
      "This is a verbose module\n",
      "This is a verbose module\n",
      "This is a verbose module\n"
     ]
    }
   ],
   "source": [
    "reload(my_verbose_module);\n",
    "reload(my_verbose_module);\n",
    "reload(my_verbose_module);"
   ]
  },
  {
   "cell_type": "markdown",
   "metadata": {
    "slideshow": {
     "slide_type": "subslide"
    }
   },
   "source": [
    "* Using `%run` in a notebook will run the newest version of the script, but will *not* reload imported modules\n",
    "* The same is true for interactive sessions\n",
    "\n",
    "This can lead to some confusion when working interactively, but should rarely be a problem when writing scripts. You can use the [`autoreload` extension for IPython](http://ipython.readthedocs.io/en/stable/config/extensions/autoreload.html?highlight=autoreload) to ensure modified modules are reloaded"
   ]
  },
  {
   "cell_type": "markdown",
   "metadata": {
    "slideshow": {
     "slide_type": "slide"
    }
   },
   "source": [
    "### Where can we import from?\n",
    "\n",
    "If we try to import a module named `spam`, Python will have to search to find a module with the correct name\n",
    "\n",
    "It searches in the same way as it does for variables, it first looks locally, and then extends outwards\n",
    "* built-ins\n",
    "* the directory containing the input script (or the current directory)\n",
    "* PYTHONPATH (a list of directory names, with the same syntax as the shell variable PATH)\n",
    "* the installation-dependent default\n"
   ]
  },
  {
   "cell_type": "markdown",
   "metadata": {
    "slideshow": {
     "slide_type": "subslide"
    }
   },
   "source": [
    "The fact that Python looks locally first is important, because this means you should *not* create files with the same names as modules you are going to import, because it can lead to headaches"
   ]
  },
  {
   "cell_type": "markdown",
   "metadata": {
    "slideshow": {
     "slide_type": "subslide"
    }
   },
   "source": [
    "You can see where Python looks for modules by looking at `sys.path`"
   ]
  },
  {
   "cell_type": "code",
   "execution_count": 16,
   "metadata": {
    "slideshow": {
     "slide_type": "fragment"
    }
   },
   "outputs": [
    {
     "data": {
      "text/plain": [
       "['/Users/plesser/Courses/INF200/H2019/JuneBlock/nmbu_inf200_june2020/lectures',\n",
       " '/Users/plesser/miniconda3/envs/inf200/lib/python38.zip',\n",
       " '/Users/plesser/miniconda3/envs/inf200/lib/python3.8',\n",
       " '/Users/plesser/miniconda3/envs/inf200/lib/python3.8/lib-dynload',\n",
       " '',\n",
       " '/Users/plesser/miniconda3/envs/inf200/lib/python3.8/site-packages',\n",
       " '/Users/plesser/miniconda3/envs/inf200/lib/python3.8/site-packages/IPython/extensions',\n",
       " '/Users/plesser/.ipython']"
      ]
     },
     "execution_count": 16,
     "metadata": {},
     "output_type": "execute_result"
    }
   ],
   "source": [
    "import sys\n",
    "sys.path"
   ]
  },
  {
   "cell_type": "markdown",
   "metadata": {
    "slideshow": {
     "slide_type": "subslide"
    }
   },
   "source": [
    "Importing from your own module is automatic as long as they are in the same directory, but what happens if you want to import from a different directory?\n",
    "\n",
    "**Solution:** Manipulate sys.path"
   ]
  },
  {
   "cell_type": "markdown",
   "metadata": {
    "slideshow": {
     "slide_type": "slide"
    }
   },
   "source": [
    "## Packages\n",
    "\n",
    "A package is, simply put, a collection of python modules\n",
    "\n",
    "They exist to create structuring and sharing larger projects easier\n",
    "\n",
    "\n"
   ]
  },
  {
   "cell_type": "markdown",
   "metadata": {
    "slideshow": {
     "slide_type": "subslide"
    }
   },
   "source": [
    "#### Example - Sound Effects\n",
    "\n",
    "This example is taken from the [Python documentation](https://docs.python.org/3.6/tutorial/modules.html)\n",
    "\n",
    "Let's say you want to create code that takes sound files or data and applies various sound effects too them. To make the project more structured you choose to add a new module for each type of sound effect you want to add\n",
    "\n",
    "You project structure can then look like this\n",
    "- `/effects/`\n",
    "    - `__init__.py`\n",
    "    - `echo.py`\n",
    "    - `surround.py`\n",
    "    - `reverse.py`\n",
    "    - `autotune.py`\n",
    "    - ....\n",
    "\n"
   ]
  },
  {
   "cell_type": "markdown",
   "metadata": {
    "slideshow": {
     "slide_type": "subslide"
    }
   },
   "source": [
    "To create the project we simply gather all the different modules (`echo.py`, `surround.py`, and so on) in a single directory, and then we create a `__init__.py` file\n",
    "\n",
    "The `__init__.py` file specifies to Python that the `effects` directory should be interpreted as a *package*. The file itself can be empty\n",
    "\n",
    "We can then use the package as follows\n",
    "```python\n",
    "import effects\n",
    "effects.echo.add_echo(sound)\n",
    "\n",
    "import effects.echo\n",
    "effects.echo.add_echo\n",
    "\n",
    "from effects.echo import add_echo\n",
    "add_echo(sound)\n",
    "```"
   ]
  },
  {
   "cell_type": "markdown",
   "metadata": {
    "slideshow": {
     "slide_type": "subslide"
    }
   },
   "source": [
    "These packages are sometimes referred to as 'multi-file modules'. You have probably used them without thinking about it:\n",
    "- matplotlib.pyplot\n",
    "- numpy.random\n",
    "\n",
    "They are also referred to as 'import packages', as they are primarily used to define how importing the various modules should be done"
   ]
  },
  {
   "cell_type": "markdown",
   "metadata": {
    "slideshow": {
     "slide_type": "subslide"
    }
   },
   "source": [
    "### Sub-packages\n",
    "\n",
    "Packages can be defined in a nested hierarchy. Let us say we extend our 'sound effects' project to also include other handling of sound files, such are changing formats or adding filters\n",
    "\n",
    "After some work our project might look like this"
   ]
  },
  {
   "cell_type": "markdown",
   "metadata": {
    "slideshow": {
     "slide_type": "subslide"
    }
   },
   "source": [
    "- `sound/`\n",
    "    - `__init__.py`\n",
    "    - `formats/`\n",
    "        - `__init__.py`\n",
    "        - `wavread.py`\n",
    "        - `wavwrite.py`\n",
    "        - `aiffread.py`\n",
    "        - `aiffwrite.py`\n",
    "        - `auread.py`\n",
    "        - `auwrite.py`\n",
    "        - `...`\n",
    "    - `effects/`\n",
    "        - `__init__.py`\n",
    "        - `echo.py`\n",
    "        - `surround.py`\n",
    "        - `reverse.py`\n",
    "        - `...`\n",
    "    - `filters/`\n",
    "        - `__init__.py`\n",
    "        - `equalizer.py`\n",
    "        - `vocoder.py`\n",
    "        - `karaoke.py`"
   ]
  },
  {
   "cell_type": "markdown",
   "metadata": {
    "slideshow": {
     "slide_type": "subslide"
    }
   },
   "source": [
    "Here, `sound` is a package (because it is a folder with a `__init__.py` file), that contains three sub-packages: \n",
    "- `formats`\n",
    "- `effects`\n",
    "- `filters`\n",
    "\n",
    "Each of the subpackages contain their own `__init__.py` file to signify that they are to be treated as packages aswell"
   ]
  },
  {
   "cell_type": "markdown",
   "metadata": {
    "slideshow": {
     "slide_type": "subslide"
    }
   },
   "source": [
    "### Relative imports\n",
    "\n",
    "- Modules within a package often depend on each other\n",
    "    - must import each other\n",
    "    - must avoid importing modules of same name elsewhere in `sys.path`\n",
    "\n",
    "- Solution: relative imports\n",
    "    - always in the form\n",
    "    \n",
    "      ```Python\n",
    "      from <module or package> import <something>\n",
    "      ``` \n",
    "    - always start with a dot `.` (or several dots)\n",
    "    - see [Tutorial, ch 6.4.2](https://docs.python.org/3.6/tutorial/modules.html#intra-package-references) and [PEP 328](http://legacy.python.org/dev/peps/pep-0328/)"
   ]
  },
  {
   "cell_type": "markdown",
   "metadata": {
    "slideshow": {
     "slide_type": "subslide"
    }
   },
   "source": [
    "#### Relative import properties\n",
    "- The `.` marks import as *relative* \n",
    "- Python looks for modules only within the package\n",
    "- does not look in directories in `sys.path`\n",
    "- avoids confusion with modules/packages of same name elsewhere\n",
    "- **work only inside packages**\n",
    "\n",
    "#### Modules with using relative imports cannot be run\n",
    "- Modules that are part of packages and therefore use relative imports cannot be executed directly (as scripts)\n",
    "- You cannot \"Run\" them in PyCharm\n",
    "- This is intentional: packages are to be imported\n",
    "- To use the code from such modules, create a script that imports the module\n",
    "    - create the script outside the package\n",
    "- See `J01/chutes_project/examples/chutes_demo`\n"
   ]
  },
  {
   "cell_type": "markdown",
   "metadata": {
    "slideshow": {
     "slide_type": "slide"
    }
   },
   "source": [
    "## Distribution Packages\n",
    "\n",
    "Let us say you have spent the last year creating some really great Python code, and now you want to share it with others. What do we need to do?\n",
    "- Need to put \"everything together\" into a nice \"parcel\"\n",
    "- Need to handle *dependencies* (e.g., that our code needs NumPy)\n",
    "- Need to \"spread the word (code)\"\n",
    "\n",
    "**Python solution**: *Packaging*"
   ]
  },
  {
   "cell_type": "markdown",
   "metadata": {
    "slideshow": {
     "slide_type": "subslide"
    }
   },
   "source": [
    "#### Packages *vs* Packages\n",
    "\n",
    "You might have noted that we now have to different things called *packages*, they are either\n",
    "- Collections of modules (import packages)\n",
    "- A collection of code neatly packaged for sharing with others (distribution packages)\n",
    "\n",
    "Yes, having the same name for two different things is confusing. Programmers are horrible at naming conventions, we just have to deal with that"
   ]
  },
  {
   "cell_type": "markdown",
   "metadata": {
    "slideshow": {
     "slide_type": "subslide"
    }
   },
   "source": [
    "The [Python Packaging User Guide Glossary](https://packaging.python.org/glossary/) defines a Distribution Package as\n",
    "\n",
    "\"A versioned archive file that contains Python packages, modules, and other resource files that are used to distribute a Release. The archive file is what an end-user will download from the internet and install.\"\n",
    "\n",
    "**Details on distribution packages will follow in a later lecture.**"
   ]
  },
  {
   "cell_type": "code",
   "execution_count": null,
   "metadata": {},
   "outputs": [],
   "source": []
  }
 ],
 "metadata": {
  "kernelspec": {
   "display_name": "Python 3",
   "language": "python",
   "name": "python3"
  },
  "language_info": {
   "codemirror_mode": {
    "name": "ipython",
    "version": 3
   },
   "file_extension": ".py",
   "mimetype": "text/x-python",
   "name": "python",
   "nbconvert_exporter": "python",
   "pygments_lexer": "ipython3",
   "version": "3.7.3"
  }
 },
 "nbformat": 4,
 "nbformat_minor": 4
}
